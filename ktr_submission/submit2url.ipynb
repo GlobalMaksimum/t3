{
 "cells": [
  {
   "cell_type": "code",
   "execution_count": 1,
   "metadata": {},
   "outputs": [],
   "source": [
    "import json\n",
    "\n",
    "from tqdm import tqdm"
   ]
  },
  {
   "cell_type": "code",
   "execution_count": 2,
   "metadata": {},
   "outputs": [],
   "source": [
    "f_yaya = open('yaya_json.json')\n",
    "yaya_json = json.load(f_yaya)\n",
    "\n",
    "f_arac = open('arac_json.json')\n",
    "arac_json = json.load(f_arac)"
   ]
  },
  {
   "cell_type": "code",
   "execution_count": 3,
   "metadata": {},
   "outputs": [],
   "source": [
    "arac_json = {a['frame_id']: a for a in arac_json}\n",
    "yaya_json = {a['frame_id']: a for a in yaya_json}"
   ]
  },
  {
   "cell_type": "code",
   "execution_count": 4,
   "metadata": {},
   "outputs": [],
   "source": [
    "merged_json = []\n",
    "for k in arac_json.keys():\n",
    "    a = {\n",
    "        'frame_id': k,\n",
    "        'objeler': arac_json[k]['objeler'] + yaya_json[k]['objeler']\n",
    "    }\n",
    "    merged_json.append(a)"
   ]
  },
  {
   "cell_type": "code",
   "execution_count": 5,
   "metadata": {},
   "outputs": [],
   "source": [
    "import json\n",
    "f = open('merged.json', 'w')\n",
    "json.dump(merged_json, f)\n",
    "\n",
    "f.close()"
   ]
  },
  {
   "cell_type": "code",
   "execution_count": null,
   "metadata": {},
   "outputs": [],
   "source": []
  },
  {
   "cell_type": "code",
   "execution_count": 6,
   "metadata": {},
   "outputs": [
    {
     "name": "stdout",
     "output_type": "stream",
     "text": [
      "200\n"
     ]
    }
   ],
   "source": [
    "import json\n",
    "import requests\n",
    "s = requests.Session()\n",
    "url = 'http://212.68.57.202:52196/api/giris'\n",
    "data = {\"kadi\" : \"globalmaksimum\",\"sifre\" : \"teknoyz442\"}\n",
    "r = s.post(url, json=data)\n",
    "print(r.status_code)"
   ]
  },
  {
   "cell_type": "code",
   "execution_count": null,
   "metadata": {
    "scrolled": true
   },
   "outputs": [],
   "source": [
    "rrr= []\n",
    "for i in tqdm(merged_json[::-1]):\n",
    "    r = s.post(\"http://212.68.57.202:52196/api/cevap_gonder\", json=i)\n",
    "    rrr.append(r.status_code)\n",
    "    if r.status_code == 200:\n",
    "        print(i['frame_id'])\n",
    "        print(r.status_code)"
   ]
  },
  {
   "cell_type": "code",
   "execution_count": null,
   "metadata": {},
   "outputs": [],
   "source": []
  }
 ],
 "metadata": {
  "jupytext": {
   "formats": "ipynb,py:light"
  },
  "kernelspec": {
   "display_name": "Python 3.7 MMDetect",
   "language": "python",
   "name": "mmdetect"
  },
  "language_info": {
   "codemirror_mode": {
    "name": "ipython",
    "version": 3
   },
   "file_extension": ".py",
   "mimetype": "text/x-python",
   "name": "python",
   "nbconvert_exporter": "python",
   "pygments_lexer": "ipython3",
   "version": "3.7.4"
  }
 },
 "nbformat": 4,
 "nbformat_minor": 4
}
