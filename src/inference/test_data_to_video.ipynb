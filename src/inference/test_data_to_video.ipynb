{
 "cells": [
  {
   "cell_type": "code",
   "execution_count": 1,
   "metadata": {},
   "outputs": [],
   "source": [
    "import sys\n",
    "sys.path.insert(0,'..')\n",
    "\n",
    "import pickle\n",
    "from tqdm import tqdm_notebook as tqdm\n",
    "from glob import glob\n",
    "\n",
    "import cv2\n",
    "import os\n",
    "\n",
    "import matplotlib.pyplot as plt\n",
    "\n",
    "%matplotlib inline"
   ]
  },
  {
   "cell_type": "code",
   "execution_count": 3,
   "metadata": {},
   "outputs": [
    {
     "data": {
      "application/vnd.jupyter.widget-view+json": {
       "model_id": "c09277f93c394044835d758474d80a5f",
       "version_major": 2,
       "version_minor": 0
      },
      "text/plain": [
       "HBox(children=(IntProgress(value=0, max=701), HTML(value='')))"
      ]
     },
     "metadata": {},
     "output_type": "display_data"
    },
    {
     "name": "stdout",
     "output_type": "stream",
     "text": [
      "\n"
     ]
    }
   ],
   "source": [
    "\n",
    "# Input image base folder \n",
    "image_folder_base = '/home/deep/t3/data/t3-data/'\n",
    "# Output video base folder\n",
    "video_output_base = './'\n",
    "\n",
    "d = pickle.load(open('../../data/t3-data/only_yaya_test_frames.pkl', 'rb'))\n",
    "frame_bbox = {f['filename']:f['ann']['bboxes'] for f in d}\n",
    "images = list(frame_bbox.keys())\n",
    "\n",
    "video_name = '{}{}.mp4'.format(video_output_base, 'test_video_with_bbox')\n",
    "# sort images by frame\n",
    "images = sorted(images, key=lambda x: int(x.split('/')[-1][5:-4]))\n",
    "\n",
    "results = []\n",
    "\n",
    "\n",
    "frame = cv2.imread(os.path.join(image_folder_base, images[0]))\n",
    "\n",
    "# resize\n",
    "height, width, layers = frame.shape\n",
    "height //= 2 \n",
    "width //= 2\n",
    "# arguments: output_name, codec, fps, size\n",
    "video = cv2.VideoWriter(video_name, 0x7634706d, 5, (width,height)) \n",
    "\n",
    "for image in tqdm(images, total=len(images)):\n",
    "\n",
    "\n",
    "    img_frame = cv2.imread(os.path.join(image_folder_base, image))\n",
    "\n",
    "    for bbox in frame_bbox[image]:\n",
    "            mins = int(bbox[0]), int(bbox[1])\n",
    "            maxs = int(bbox[2]), int(bbox[3])\n",
    "            img_frame = cv2.rectangle(img_frame, mins, maxs,(0, 0, 250),2)\n",
    "\n",
    "    font                   = cv2.FONT_HERSHEY_SIMPLEX\n",
    "\n",
    "    bottomLeftCornerOfText = (10,500)\n",
    "    fontScale              = 1\n",
    "    fontColor              = (218, 227, 218)\n",
    "    lineType               = 2\n",
    "\n",
    "    cv2.putText(img_frame,str(image),\n",
    "        bottomLeftCornerOfText, \n",
    "        font,\n",
    "        fontScale,\n",
    "        fontColor,\n",
    "        lineType)\n",
    "\n",
    "\n",
    "    video.write(cv2.resize(img_frame, (width, height)))\n",
    "\n",
    "\n",
    "cv2.destroyAllWindows()\n",
    "video.release()\n",
    "\n"
   ]
  },
  {
   "cell_type": "code",
   "execution_count": null,
   "metadata": {},
   "outputs": [],
   "source": [
    "ls /home/deep/t3/data/t3-data/t3/"
   ]
  },
  {
   "cell_type": "code",
   "execution_count": null,
   "metadata": {},
   "outputs": [],
   "source": []
  }
 ],
 "metadata": {
  "kernelspec": {
   "display_name": "Python 3.6 (TensorFlow GPU)",
   "language": "python",
   "name": "tensorflow_gpuenv"
  },
  "language_info": {
   "codemirror_mode": {
    "name": "ipython",
    "version": 3
   },
   "file_extension": ".py",
   "mimetype": "text/x-python",
   "name": "python",
   "nbconvert_exporter": "python",
   "pygments_lexer": "ipython3",
   "version": "3.6.8"
  }
 },
 "nbformat": 4,
 "nbformat_minor": 4
}
