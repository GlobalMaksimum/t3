{
 "cells": [
  {
   "cell_type": "code",
   "execution_count": 1,
   "metadata": {},
   "outputs": [],
   "source": [
    "import sys\n",
    "sys.path.insert(0,'..')\n",
    "\n",
    "import pickle\n",
    "from mmdetection.mmdet.apis import init_detector, inference_detector, show_result\n",
    "from tqdm import tqdm_notebook as tqdm\n",
    "from glob import glob\n",
    "\n",
    "import cv2\n",
    "import os\n",
    "\n",
    "import matplotlib.pyplot as plt\n",
    "\n",
    "%matplotlib inline"
   ]
  },
  {
   "cell_type": "code",
   "execution_count": 7,
   "metadata": {},
   "outputs": [
    {
     "data": {
      "application/vnd.jupyter.widget-view+json": {
       "model_id": "3445ccc74a1e4c55a55900bb45a9208b",
       "version_major": 2,
       "version_minor": 0
      },
      "text/plain": [
       "HBox(children=(IntProgress(value=0, max=3213), HTML(value='')))"
      ]
     },
     "metadata": {},
     "output_type": "display_data"
    },
    {
     "data": {
      "application/vnd.jupyter.widget-view+json": {
       "model_id": "6561825f8ded4cbfa739ae34fb33710c",
       "version_major": 2,
       "version_minor": 0
      },
      "text/plain": [
       "HBox(children=(IntProgress(value=0, max=3213), HTML(value='')))"
      ]
     },
     "metadata": {},
     "output_type": "display_data"
    },
    {
     "data": {
      "application/vnd.jupyter.widget-view+json": {
       "model_id": "89f9bc38f4134dd59c3b69e1daa38f1b",
       "version_major": 2,
       "version_minor": 0
      },
      "text/plain": [
       "HBox(children=(IntProgress(value=0, max=1136), HTML(value='')))"
      ]
     },
     "metadata": {},
     "output_type": "display_data"
    },
    {
     "data": {
      "application/vnd.jupyter.widget-view+json": {
       "model_id": "a327b5a46c4a437d9d6527a1cb29b63c",
       "version_major": 2,
       "version_minor": 0
      },
      "text/plain": [
       "HBox(children=(IntProgress(value=0, max=1136), HTML(value='')))"
      ]
     },
     "metadata": {},
     "output_type": "display_data"
    }
   ],
   "source": [
    "scene_names = ['B23072019_V1_K1', 'T190619_V4_K1']\n",
    "# Input image base folder \n",
    "image_folder_base = '/home/deep/t3/data/ktr-test/test/'\n",
    "# Output video base folder\n",
    "video_output_base = './'\n",
    "\n",
    "config_file = '../../models/google-cloud-models/cascade-t3-vis/config.py'\n",
    "checkpoint_file = '../../models/google-cloud-models/cascade-t3-vis/epoch_1.pth'\n",
    "\n",
    "model = init_detector(config_file, checkpoint_file, device='cuda:0')\n",
    "\n",
    "thres = [0.4, 0.6]\n",
    "\n",
    "for scene_name in scene_names:\n",
    "    image_folder = '{}{}/'.format(image_folder_base, scene_name)\n",
    "    video_name = '{}{}.mp4'.format(video_output_base, scene_name)\n",
    "\n",
    "    # get names \n",
    "    images = [img for img in os.listdir(image_folder) if img.endswith(\".jpg\")]\n",
    "\n",
    "    # sort images by frame\n",
    "    images = sorted(images, key=lambda x: int(x.split('.')[0][5:]))\n",
    "    \n",
    "    results = []\n",
    "    \n",
    "    for img in tqdm(images):\n",
    "        results.append(inference_detector(model, f\"{image_folder_base}{scene_name}/{img}\"))\n",
    "\n",
    "    frame = cv2.imread(os.path.join(image_folder, images[0]))\n",
    "\n",
    "    # resize\n",
    "    height, width, layers = frame.shape\n",
    "    height //= 2 \n",
    "    width //= 2\n",
    "    # arguments: output_name, codec, fps, size\n",
    "    video = cv2.VideoWriter(video_name, 0x7634706d, 5, (width,height)) \n",
    "\n",
    "    for idx, image in tqdm(enumerate(images), total=len(images)):\n",
    "        img_frame = cv2.imread(os.path.join(image_folder, image))\n",
    "        \n",
    "        for i, preds in enumerate(results[idx][:2]):\n",
    "            for bbox in filter(lambda x: x[-1] >= thres[i], preds):\n",
    "                mins = int(bbox[0]), int(bbox[1])\n",
    "                maxs = int(bbox[2]), int(bbox[3])\n",
    "                img_frame = cv2.rectangle(img_frame, mins, maxs,(255 * i, 255 * (1 - i),0),3)\n",
    "\n",
    "        \n",
    "        video.write(cv2.resize(img_frame, (width, height)))\n",
    "\n",
    "    cv2.destroyAllWindows()\n",
    "    video.release()\n"
   ]
  }
 ],
 "metadata": {
  "jupytext": {
   "formats": "ipynb,py:light"
  },
  "kernelspec": {
   "display_name": "Python 3.7 MMDetect",
   "language": "python",
   "name": "mmdetect"
  },
  "language_info": {
   "codemirror_mode": {
    "name": "ipython",
    "version": 3
   },
   "file_extension": ".py",
   "mimetype": "text/x-python",
   "name": "python",
   "nbconvert_exporter": "python",
   "pygments_lexer": "ipython3",
   "version": "3.7.4"
  }
 },
 "nbformat": 4,
 "nbformat_minor": 2
}
