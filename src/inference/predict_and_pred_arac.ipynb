{
 "cells": [
  {
   "cell_type": "code",
   "execution_count": 1,
   "metadata": {},
   "outputs": [],
   "source": [
    "import sys\n",
    "sys.path.insert(0,'..')\n",
    "\n",
    "import pickle\n",
    "from mmdetection.mmdet.apis import init_detector, inference_detector, show_result\n",
    "from tqdm import tqdm_notebook\n",
    "from glob import glob\n",
    "import matplotlib.pyplot as plt\n",
    "\n",
    "%matplotlib inline"
   ]
  },
  {
   "cell_type": "code",
   "execution_count": 2,
   "metadata": {
    "lines_to_next_cell": 2
   },
   "outputs": [],
   "source": [
    "# CONSTANTS\n",
    "prediction_file_path = 'preds.txt'\n",
    "ground_truth_file_path = 'ground-truth.txt'\n",
    "# anns = pickle.load(open('../../data/t3-data/splits/all/test.pkl', 'rb'))\n",
    "anns = pickle.load(open('../../data/t3-data/arac_splits/test.pkl', 'rb'))\n",
    "\n",
    "# config_file = '../mmdetection/configs/faster_rcnn_r50_fpn_1x.py'\n",
    "# checkpoint_file = '../mmdetection/work_dirs/old_workdir/faster_rcnn_r50_fpn_1x_visdrone/epoch_1.pth'\n",
    "\n",
    "# config_file = '../mmdetection/configs/faster_rcnn_r50_fpn_1x.py'\n",
    "# checkpoint_file = '../mmdetection/work_dirs/faster_rcnn_r50_fpn_1x_mix/epoch_4.pth'\n",
    "\n",
    "# config_file = '../mmdetection/configs/faster_rcnn_r50_fpn_1x.py'\n",
    "# checkpoint_file = '../mmdetection/work_dirs/old_workdir/faster_rcnn_r50_fpn_1x_visdrone_pretrained/epoch_14.pth'\n",
    "\n",
    "# config_file = '../../src/configs/libra_rcnn/libra_retinanet_r50_fpn_1x.py'\n",
    "# checkpoint_file = '../mmdetection/work_dirs/libra_retinanet_r50_fpn_1x/epoch_2.pth'\n",
    "\n",
    "# config_file = '../configs/guided_anchoring/ga_retinanet_x101_32x4d_fpn_1x.py'\n",
    "# checkpoint_file = '../../models/work_dirs/ga_retinanet_x101_32x4d_fpn_1x/latest.pth'\n",
    "\n",
    "\n",
    "# config_file = '../mmdetection/configs/retinanet_r50_fpn_1x.py'\n",
    "# checkpoint_file = '../mmdetection/work_dirs/retinanet_r50_fpn_1x_visdrone/epoch_2.pth'\n",
    "\n",
    "config_file = '../../src/configs/cascade_rcnn_r50_fpn_1x.py'\n",
    "checkpoint_file = '../../models/work_dirs/cascade_rcnn_r50_fpn_1x-arac/latest.pth'\n",
    "\n",
    "# config_file = '../mmdetection/configs/faster_rcnn_r101_fpn_1x.py'\n",
    "# checkpoint_file = '../mmdetection/work_dirs/old_workdir/faster_rcnn_r101_fpn_1x/epoch_15.pth'\n",
    "\n",
    "# config_file = '../../models/google-cloud-models/cascade-t3-vis/config.py'\n",
    "# checkpoint_file = '../../models/google-cloud-models/cascade-t3-vis/epoch_1.pth'\n",
    "\n"
   ]
  },
  {
   "cell_type": "code",
   "execution_count": 3,
   "metadata": {
    "lines_to_next_cell": 2
   },
   "outputs": [
    {
     "data": {
      "application/vnd.jupyter.widget-view+json": {
       "model_id": "5d3ac2a8b1ff4badaeeaebf6879186a8",
       "version_major": 2,
       "version_minor": 0
      },
      "text/plain": [
       "HBox(children=(IntProgress(value=0, max=3208), HTML(value='')))"
      ]
     },
     "metadata": {},
     "output_type": "display_data"
    },
    {
     "name": "stdout",
     "output_type": "stream",
     "text": [
      "\n"
     ]
    }
   ],
   "source": [
    "results = []\n",
    "model = init_detector(config_file, checkpoint_file, device='cuda:0')\n",
    "\n",
    "\n",
    "img_list = ['../../data/t3-data/' + ann['filename'] for ann in anns]\n",
    "\n",
    "for img in tqdm_notebook(img_list):\n",
    "    results.append(inference_detector(model, img))"
   ]
  },
  {
   "cell_type": "code",
   "execution_count": 7,
   "metadata": {
    "lines_to_next_cell": 2
   },
   "outputs": [],
   "source": [
    "# PREDS.TXT\n",
    "thres = [0.7]\n",
    "with open(prediction_file_path, 'w+') as f:\n",
    "    for img_path, img_preds in zip(img_list, results):\n",
    "        line = '/'.join(img_path.split('/')[-2:])\n",
    "        for i, preds in enumerate(img_preds[:2]):\n",
    "            for bbox in filter(lambda x: x[-1] >= thres[i], preds):\n",
    "                line += \",{},{},{},{},{}\".format(*bbox[:-1], i+1)\n",
    "        f.write(line)\n",
    "        f.write('\\n')"
   ]
  },
  {
   "cell_type": "code",
   "execution_count": 8,
   "metadata": {},
   "outputs": [],
   "source": [
    "# GROUND TRUTH\n",
    "with open(ground_truth_file_path, 'w+') as f:\n",
    "    for img in anns:\n",
    "        line = '/'.join(img['filename'].split('/')[-2:])\n",
    "        for i, bbox in enumerate(img['ann']['bboxes']):\n",
    "            line += \",{},{},{},{},{}\".format(*bbox, img['ann']['labels'][i])\n",
    "        f.write(line)\n",
    "        f.write('\\n')"
   ]
  },
  {
   "cell_type": "markdown",
   "metadata": {},
   "source": [
    "eval kodu: https://github.com/GlobalMaksimum/t3/blob/master/src/eval/evaluate.py"
   ]
  },
  {
   "cell_type": "code",
   "execution_count": 9,
   "metadata": {},
   "outputs": [
    {
     "name": "stdout",
     "output_type": "stream",
     "text": [
      "{0: {'total': 0, 'n_TP': 0, 'n_FP': 0, 'n_FN': 0}, 1: {'total': 8957, 'n_TP': 6498, 'n_FP': 1682, 'n_FN': 986}}\n",
      "Total Box: 8957\n",
      "\n",
      "================ T3 METRIC ================\n",
      "13712.221 over 26871\n",
      "\n",
      "=========== PRECISION & RECALL ============\n",
      "arac: \n",
      "\tprecision: 0.868 \n",
      "\trecall: 0.794\n",
      "\tavg: 0.831\n"
     ]
    }
   ],
   "source": [
    "! /home/deep/miniconda3/envs/open-mmlab/bin/python ../eval/evaluate.py ground-truth.txt preds.txt"
   ]
  },
  {
   "cell_type": "code",
   "execution_count": null,
   "metadata": {},
   "outputs": [],
   "source": [
    "! /home/deep/miniconda3/envs/open-mmlab/bin/python ../eval/t3_evaluate.py ground-truth.txt preds.txt"
   ]
  },
  {
   "cell_type": "code",
   "execution_count": null,
   "metadata": {},
   "outputs": [],
   "source": []
  }
 ],
 "metadata": {
  "jupytext": {
   "formats": "ipynb,py:light"
  },
  "kernelspec": {
   "display_name": "Python 3.7 MMDetect",
   "language": "python",
   "name": "mmdetect"
  },
  "language_info": {
   "codemirror_mode": {
    "name": "ipython",
    "version": 3
   },
   "file_extension": ".py",
   "mimetype": "text/x-python",
   "name": "python",
   "nbconvert_exporter": "python",
   "pygments_lexer": "ipython3",
   "version": "3.7.4"
  }
 },
 "nbformat": 4,
 "nbformat_minor": 4
}
